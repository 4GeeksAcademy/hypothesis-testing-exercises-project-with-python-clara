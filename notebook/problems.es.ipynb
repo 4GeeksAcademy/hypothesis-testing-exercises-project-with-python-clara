{
 "cells": [
  {
   "cell_type": "markdown",
   "id": "d9d036c6",
   "metadata": {},
   "source": [
    "# Problemas de prueba de hipótesis"
   ]
  },
  {
   "cell_type": "code",
   "execution_count": 8,
   "id": "c4ba2ecb",
   "metadata": {},
   "outputs": [],
   "source": [
    "# Se importan las librerías:\n",
    "from scipy import stats\n",
    "from scipy.stats import tukey_hsd # Librería utilizada para poder sacar conclusiones a partir del test realizado en el segundo ejercicio\n",
    "import numpy as np\n",
    "from statsmodels.stats.multicomp import pairwise_tukeyhsd # Libería utilizada para sacar conclusiones de forma más clara a partir del test realizado en el segundo ejercicio"
   ]
  },
  {
   "cell_type": "markdown",
   "id": "d157c4db",
   "metadata": {},
   "source": [
    "## Ejercicio 1\n",
    "\n",
    "Usted es un nutricionista que investiga dos tipos diferentes de dietas para ver si existe una diferencia significativa en la pérdida de peso después de un mes. Eliges dos grupos aleatorios de personas; un grupo sigue la primera dieta y el otro sigue la segunda. Al final del mes, se registra la pérdida de peso (en kg) de cada persona:\n",
    "\n",
    "| Diet 1 | Diet 2 |\n",
    "|:-------|:-------|\n",
    "| 2.0 | 3.0 |\n",
    "| 2.5 | 3.2 |\n",
    "| 3.0 | 3.1 |\n",
    "| 2.8 | 2.9 |\n",
    "| 2.3 | 2.8 |\n",
    "| 2.7 | 3.0 |\n",
    "| 2.5 | 3.2 |\n",
    "\n",
    "Con estos datos se busca responder a la siguiente pregunta: ¿Existe una diferencia significativa en la pérdida de peso promedio entre las personas que siguieron la primera dieta y las que siguieron la segunda dieta?\n",
    "\n",
    "Para sacar conclusiones, siga los siguientes puntos:\n",
    "\n",
    "-Enunciar la hipótesis: hipótesis nula y alternativa.\n",
    "\n",
    "-Realizar la prueba para comprobar la hipótesis. Puede utilizar la prueba t de Student.\n",
    "\n",
    "-Analizar las conclusiones."
   ]
  },
  {
   "cell_type": "markdown",
   "id": "385904b7",
   "metadata": {},
   "source": [
    "**Hipótesis Nula, H0:** No hay ninguna diferencia significativa en la pérdida de peso promedio entre las personas que siguieron la primera dieta y los que siguieron la segunda\n",
    "\n",
    "**Hipótesis Alternativa, H1:** Hay una diferencia significativa en la pérdida de peso promedio entre las personas que siguieron la primera dieta y los que siguieron la segunda"
   ]
  },
  {
   "cell_type": "code",
   "execution_count": 4,
   "id": "8e0f3cf0",
   "metadata": {},
   "outputs": [],
   "source": [
    "# Datos: \n",
    "diet1 = [2.0, 2.5, 3.0, 2.8, 2.3, 2.7, 2.5];\n",
    "diet2 = [3.0, 3.2, 2.9, 2.8, 3.0, 3.2];\n",
    "\n",
    "# Se establece un Nivel de Significancia del 0.05 para poder establecer un límite a partir del cual dar una afirmación:\n",
    "alpha = 0.05;\n"
   ]
  },
  {
   "cell_type": "markdown",
   "id": "9f73f4a7",
   "metadata": {},
   "source": [
    "Para poder realizar el **t-Test**, se debe confirmar que los datos son **independientes**, siguen una **distribución normal** y tienen una **varianza estadísticamente similar**. \n",
    "\n",
    "En primer lugar, se puede asegurar que los **datos son independientes**, dado que **no están influidos entre sí** ni por ningún **experimento previo**.\n",
    "\n",
    "A continuación, se van a realizar diferentes comprobaciones, para poder llegar a aplicar el t-Test. Esto implica que, primero, se va a comprobar que los **datos siguen una distribución normal** (lo suficientemente normal, de acuerdo con el nivel de significancia establecido). En caso **afirmativo**, se pasará a comprobar si tienen una **varianza estadísticamente similar** (de nuevo, de acuerdo con el nivel de significancia establecido). Si se pasan **ambas pruebas**, se podrá aplicar el **t-Test**, en caso de **fallar** en alguna **no se aplicará**. \n",
    "\n",
    "Se van a ir **imprimiendo mensajes** según se comprueben los distintos pasos para **informar al usuario** del proceso. "
   ]
  },
  {
   "cell_type": "code",
   "execution_count": null,
   "id": "7e7fbcc8",
   "metadata": {},
   "outputs": [
    {
     "name": "stdout",
     "output_type": "stream",
     "text": [
      " Ambos grupos de datos siguen una distribución normal\n",
      "\n",
      " Ambos grupos de datos tienen una varianza estadísticamente similar\n",
      "\n",
      " Por ello se aplica el t-test para los dos grupos de datos específicados...\n",
      "\n",
      " P-Value: 0.008652119393753342\n",
      "\n"
     ]
    }
   ],
   "source": [
    "# Se aplica el SHAPIRO TEST para comprobar si los datos siguen una distribución normal (shapiro se utiliza para grupos de datos pequeños):\n",
    "# Solo se pasa esta primera prueba si AMBOS grupos siguen una distribución normal\n",
    "# Se considera que la distribución es normal si el resultado del SHAPIRO TEST es mayor o igual al Nivel de Significancia establecido (alpha = 0.05)\n",
    "if (stats.shapiro(diet1).pvalue and stats.shapiro(diet2).pvalue) >= alpha:\n",
    "\n",
    "    print (f\" Ambos grupos de datos siguen una distribución normal\\n\");\n",
    "\n",
    "    # Se aplica el LEVENE TEST para comprobar si la varianza de los datos es estadísticamente similar:\n",
    "    # Se consiguera estadísticamente similar si el resultado del LEVENE TEST es mayor o igual al Nivel de Significancia establecido (alpha = 0.05)\n",
    "    if (stats.levene(diet1, diet2).pvalue) >= alpha:\n",
    "\n",
    "        print (f\" Ambos grupos de datos tienen una varianza estadísticamente similar\\n\");\n",
    "        print (f\" Por ello se aplica el t-test para los dos grupos de datos específicados...\\n\");\n",
    "\n",
    "        # Al haber pasado ambas pruebas, se puede aplicar el t-Test y obtener el P-Value para poder extraer conclusiones de las Hipótesis.\n",
    "        p_Value = stats.ttest_ind(diet1, diet2).pvalue;\n",
    "\n",
    "        print (f\" P-Value: {p_Value}\\n\");\n",
    "\n",
    "    # No se ha pasado el LEVENE TEST (las varianzas no son estadísticamente similares)\n",
    "    else: print (f\"... pero no tienen una varianza estadísticamente similar\\n\") \n",
    "\n",
    "# No se ha pasado el SHAPITO TEST (al menos uno de los grupos no sigue una distribución normal)    \n",
    "else: print(\" Al menos uno de tus grupos de datos no sigue una distribución normal\\n\");"
   ]
  },
  {
   "cell_type": "markdown",
   "id": "2320e773",
   "metadata": {},
   "source": [
    "Los grupos de datos han pasado las tres pruebas, por lo que se ha podido aplicar el t-Test y obtener el P-Value. \n",
    "\n",
    "El P-Value ha sido muy bajo, lo que implica que se rechaza la Hipótesis Nula, aceptando así la Hipótesis Alternativa: \n",
    "\n",
    "<div style = \"text-align : center; font-style: italic;\"> \n",
    "Hay una diferencia significativa en la pérdida de peso promedio entre las personas que siguieron la primera dieta y los que siguieron la segunda\n",
    "</div>"
   ]
  },
  {
   "cell_type": "markdown",
   "id": "f432e18e",
   "metadata": {},
   "source": [
    "## ANOVA\n",
    "\n",
    "**ANOVA** (*Analysis of Variance - Análisis de variación*) Es una técnica estadística utilizada para comparar las medidas de dos o más grupos. La idea detrás de ANOVA es descomponer la variabilidad total de los datos en dos componentes: variabilidad entre grupos y variabilidad dentro de los grupos:\n",
    "\n",
    "- **Variabilidad entre grupos**: Esta variabilidad se refiere a las diferencias entre las medias del grupo. Si esta variabilidad es considerablemente mayor que la variabilidad dentro del grupo, podría ser una indicación de que al menos una de las medias del grupo es diferente.\n",
    "\n",
    "- **Variabilidad dentro del grupo**: Esta variabilidad se refiere a la dispersión de los datos dentro de cada grupo. Si todos los grupos tienen una variabilidad similar, entonces cualquier diferencia notable en las medias de los grupos podría considerarse significativa.\n",
    "\n",
    "Las hipótesis en ANOVA suelen incluir:\n",
    "\n",
    "- **Hipótesis nula** ($H₀$): Las medias de todos los grupos son iguales.\n",
    "\n",
    "- **Hipótesis alternativa** ($H₁$): Al menos una de las medias del grupo es diferente.\n",
    "\n",
    "Si el resultado de la prueba ANOVA es significativo (por ejemplo, un valor p inferior a un umbral como 0,05), esto sugiere que al menos la media de un grupo es diferente."
   ]
  },
  {
   "cell_type": "markdown",
   "id": "fc5f3721",
   "metadata": {},
   "source": [
    "## Ejercicio 2\n",
    "\n",
    "Un agricultor decide probar tres tipos diferentes de fertilizantes para determinar si alguno es superior en términos de producción de maíz. El agricultor planta maíz en 15 parcelas idénticas y utiliza los tres fertilizantes (5 parcelas para cada tipo). Al final de la temporada mide el rendimiento de maíz (en kg) de cada parcela, con el siguiente resultado:\n",
    "\n",
    "| Fertilizante 1 | Fertilizante 2 | Fertilizante 3 |\n",
    "|:-------------|:-------------|:-------------|\n",
    "| 20 | 22 | 24 |\n",
    "| 21 | 21 | 23 |\n",
    "| 20 | 23 | 22 |\n",
    "| 19 | 22 | 23 |\n",
    "| 20 | 21 | 24 |\n",
    "\n",
    "Con estos datos busca responder la siguiente pregunta: ¿Existe una diferencia significativa en el rendimiento promedio del maíz entre los tres tipos de fertilizantes?\n",
    "\n",
    "Para ayudarte, sigue los siguientes puntos:\n",
    "\n",
    "-Enunciar la hipótesis: hipótesis nula y alternativa.\n",
    "\n",
    "-Realizar la prueba ANOVA.\n",
    "\n",
    "-Analizar las conclusiones.\n",
    "\n",
    "-Si un fertilizante es mejor que otro, ¿cómo podemos saberlo?"
   ]
  },
  {
   "cell_type": "markdown",
   "id": "eed19c7e",
   "metadata": {},
   "source": [
    "**Hipótesis Nula, H0:** No hay una diferencia significativa en el rendimiento promedio del maíz entre los tres tipos de fertilizantes\n",
    "\n",
    "**Hipótesis Alternativa, H1:** Hay una diferencia significativa en el rendimiento promedio del maíz entre los tres tipos de fertilizantes"
   ]
  },
  {
   "cell_type": "code",
   "execution_count": 5,
   "id": "eecad0ca",
   "metadata": {},
   "outputs": [],
   "source": [
    "# Datos:\n",
    "fertilizer1 = [20, 21, 20, 19, 20];\n",
    "fertilizer2 = [22, 21, 23, 22, 21];\n",
    "fertilizer3 = [24, 23, 22, 23, 24];\n",
    "\n",
    "# Se establece un Nivel de Significancia del 0.05 para poder establecer un límite a partir del cual dar una afirmación:\n",
    "alpha = 0.05;"
   ]
  },
  {
   "cell_type": "markdown",
   "id": "166b0c87",
   "metadata": {},
   "source": [
    "Para poder realizar el **ANOVA test**, se debe confirmar que los datos son **independientes**, siguen una **distribución normal** y tienen una **varianza estadísticamente similar**. \n",
    "\n",
    "En primer lugar, se puede asegurar que los **datos son independientes**, dado que **no están influidos entre sí** ni por ningún **experimento previo**.\n",
    "\n",
    "A continuación, se van a realizar diferentes comprobaciones, para poder llegar a aplicar el ANOVA Test. Esto implica que, primero, se va a comprobar que los **datos siguen una distribución normal** (lo suficientemente normal, de acuerdo con el nivel de significancia establecido). En caso **afirmativo**, se pasará a comprobar si tienen una **varianza estadísticamente similar** (de nuevo, de acuerdo con el nivel de significancia establecido). Si se pasan **ambas pruebas**, se podrá aplicar el **ANOVA Test**, en caso de **fallar** en alguna **no se aplicará**. \n",
    "\n",
    "Se van a ir **imprimiendo mensajes** según se comprueben los distintos pasos para **informar al usuario** del proceso. "
   ]
  },
  {
   "cell_type": "code",
   "execution_count": null,
   "id": "d5170793",
   "metadata": {},
   "outputs": [
    {
     "name": "stdout",
     "output_type": "stream",
     "text": [
      " Tus tres grupos de datos siguen una distribución normal\n",
      "\n",
      " Tus tres grupos de datos tienen una varianza estadísticamente similar\n",
      "\n",
      " Por ello se aplica el ANOVA para los tres grupos de datos específicados...\n",
      "\n",
      " P-Value: 0.00014047824793190475\n",
      "\n"
     ]
    }
   ],
   "source": [
    "# Se aplica el SHAPIRO TEST para comprobar si los datos siguen una distribución normal (shapiro se utiliza para grupos de datos pequeños):\n",
    "# Solo se pasa esta primera prueba si los tres grupos siguen una distribución normal\n",
    "# Se considera que la distribución es normal si el resultado del SHAPIRO TEST es mayor o igual al Nivel de Significancia establecido (alpha = 0.05)\n",
    "if (stats.shapiro(fertilizer1).pvalue and stats.shapiro(fertilizer2).pvalue and stats.shapiro(fertilizer3).pvalue) >= alpha:\n",
    "\n",
    "    print (f\" Tus tres grupos de datos siguen una distribución normal\\n\");\n",
    "\n",
    "    # Se aplica el LEVENE TEST para comprobar si la varianza de los datos es estadísticamente similar:\n",
    "    # Se consiguera estadísticamente similar si el resultado del LEVENE TEST es mayor o igual al Nivel de Significancia establecido (alpha = 0.05)\n",
    "    if (stats.levene(fertilizer1, fertilizer2, fertilizer3).pvalue) >= alpha:\n",
    "\n",
    "        print (f\" Tus tres grupos de datos tienen una varianza estadísticamente similar\\n\");\n",
    "        print (f\" Por ello se aplica el ANOVA para los tres grupos de datos específicados...\\n\");\n",
    "\n",
    "        # Al haber pasado ambas pruebas, se puede aplicar el ANOVA Test (f_oneway) y obtener el P-Value para poder extraer conclusiones de las Hipótesis.\n",
    "        p_Value = stats.f_oneway(fertilizer1, fertilizer2, fertilizer3).pvalue;\n",
    "\n",
    "        print (f\" P-Value: {p_Value}\\n\");\n",
    "\n",
    "    # No se ha pasado el LEVENE TEST (las varianzas no son estadísticamente similares)\n",
    "    else: print (f\"... pero no tienen una varianza estadísticamente similar\\n\") \n",
    "\n",
    "# No se ha pasado el SHAPITO TEST (al menos uno de los grupos no sigue una distribución normal)    \n",
    "else: print(\" Al menos uno de tus grupos de datos no sigue una distribución normal\\n\");"
   ]
  },
  {
   "cell_type": "markdown",
   "id": "49e95ab1",
   "metadata": {},
   "source": [
    "Los grupos de datos han pasado las tres pruebas, por lo que se ha podido aplicar el ANOVA Test y obtener el P-Value. \n",
    "\n",
    "El P-Value ha sido muy bajo, lo que implica que se rechaza la Hipótesis Nula, aceptando así la Hipótesis Alternativa: \n",
    "\n",
    "<div style = \"text-align : center; font-style: italic;\"> \n",
    "Hay una diferencia significativa en el rendimiento promedio del maíz entre los tres tipos de fertilizantes\n",
    "</div>"
   ]
  },
  {
   "cell_type": "markdown",
   "id": "b4b16a24",
   "metadata": {},
   "source": [
    "Una vez se ha aplicado el ANOVA Test y **se ha confirmado que sí existe una diferencia significativa** en el rendimiento pronedio del maíz, dependiendo del fertilizante empleado, resultaría interesante averiguar cuál de los tres tipos de fertilizante estudiados **es mejor que otro**. \n",
    "\n",
    "Para ello se va a utilizar la **Tukey's HSD** (Honest Significant Difference), es decir, se va a aplicar una prueba estadística que **compara las posibles combinaciones de pares de grupos** tras realizar una ANOVA y determina si la **diferencia de medias** entre cada par es **significativa**. "
   ]
  },
  {
   "cell_type": "code",
   "execution_count": 7,
   "id": "d6418437",
   "metadata": {},
   "outputs": [
    {
     "name": "stdout",
     "output_type": "stream",
     "text": [
      "Tukey's HSD Pairwise Group Comparisons (95.0% Confidence Interval)\n",
      "Comparison  Statistic  p-value  Lower CI  Upper CI\n",
      " (0 - 1)     -1.800     0.010    -3.143    -0.457\n",
      " (0 - 2)     -3.200     0.000    -4.543    -1.857\n",
      " (1 - 0)      1.800     0.010     0.457     3.143\n",
      " (1 - 2)     -1.400     0.041    -2.743    -0.057\n",
      " (2 - 0)      3.200     0.000     1.857     4.543\n",
      " (2 - 1)      1.400     0.041     0.057     2.743\n",
      "\n"
     ]
    }
   ],
   "source": [
    "# Se aplica el Tukey HSD test y se imprime\n",
    "print (tukey_hsd(fertilizer1, fertilizer2, fertilizer3))"
   ]
  },
  {
   "cell_type": "markdown",
   "id": "40d16ee2",
   "metadata": {},
   "source": [
    "En este caso, el Grupo 0 sería el primer grupo de datos dado como argumento al Tukey HSD test, *fertilizer1*, el Grupo 1, el segundo argumento ... y así sucesivamente. \n",
    "\n",
    "Sin embargo, como resulta algo confuso de estudiar de esta forma, se va a aplciar la función parwise_tukeyhsd cuyos argumentos han de ser: \n",
    "\n",
    "- Valores a analizar (kg obtenidos en cada fertilizante)\n",
    "- Etiquetas de cada grupo (numeración del fertilizante)\n",
    "- Nivel de Significancia (alpha)"
   ]
  },
  {
   "cell_type": "code",
   "execution_count": 10,
   "id": "1885a722",
   "metadata": {},
   "outputs": [
    {
     "name": "stdout",
     "output_type": "stream",
     "text": [
      "     Multiple Comparison of Means - Tukey HSD, FWER=0.05      \n",
      "==============================================================\n",
      "   group1       group2    meandiff p-adj  lower  upper  reject\n",
      "--------------------------------------------------------------\n",
      "Fertilizer 1 Fertilizer 2      1.8 0.0099 0.4572 3.1428   True\n",
      "Fertilizer 1 Fertilizer 3      3.2 0.0001 1.8572 4.5428   True\n",
      "Fertilizer 2 Fertilizer 3      1.4 0.0409 0.0572 2.7428   True\n",
      "--------------------------------------------------------------\n"
     ]
    }
   ],
   "source": [
    "# Valores a analizar:\n",
    "kilograms_info = np.concatenate([fertilizer1, fertilizer2, fertilizer3]);\n",
    "\n",
    "# Etiquetas de cada grupo:\n",
    "labels = ['Fertilizer 1'] * len(fertilizer1) + ['Fertilizer 2'] * len(fertilizer2) + ['Fertilizer 3'] * len(fertilizer3);\n",
    "\n",
    "# Realizar Tukey HSD PairWise\n",
    "tukeyhsd_pairwise_test = pairwise_tukeyhsd(kilograms_info, labels, alpha);\n",
    "\n",
    "# Mostrar resultados:\n",
    "print(tukeyhsd_pairwise_test);"
   ]
  },
  {
   "cell_type": "markdown",
   "id": "471667cb",
   "metadata": {},
   "source": [
    "De esta forma, las comparaciones son mucho más claras y es mucho más sencilo establecer conclusiones. \n",
    "\n",
    "La columna *meandiff* da la diferencia promedio en el rendimiento entre los dos grupos de fertilizante comparados. Esto implica que, **si es positiva**, el conjunto de datos en **'Group 2' rinde más que el conjunto de datos en 'Group 1'**. De esta forma: \n",
    "\n",
    "- El Fertilizante 2 rinde 1.8 veces más que el Fertilizante 1. \n",
    "\n",
    "- El Fertilizante 3 rinde 3.2 veces más que el Fertilizante 1.\n",
    "\n",
    "- El Fertilizante 3 rinde 1.4 veces más que el Fertilizante 1.\n",
    "\n",
    "Además, comprobando que **ninguno de los límites inferiores del Intervalo de Confianza contiene el 0**, se puede asegurar lo siguiente: \n",
    "\n",
    "<div style = \"text-align : center;\"> \n",
    "    <strong> Ranking Fertilizantes </strong><br> <br> \n",
    "    Mejor Fertilizante: Fertilizante 3 <br> <br> \n",
    "    Segunda Posición: Fertilizante 2 <br> <br> \n",
    "    Tercera Posición: Fertilizante 1\n",
    "</div>\n"
   ]
  }
 ],
 "metadata": {
  "kernelspec": {
   "display_name": "Python 3",
   "language": "python",
   "name": "python3"
  },
  "language_info": {
   "codemirror_mode": {
    "name": "ipython",
    "version": 3
   },
   "file_extension": ".py",
   "mimetype": "text/x-python",
   "name": "python",
   "nbconvert_exporter": "python",
   "pygments_lexer": "ipython3",
   "version": "3.11.4"
  }
 },
 "nbformat": 4,
 "nbformat_minor": 5
}
